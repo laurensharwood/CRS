{
 "cells": [
  {
   "cell_type": "code",
   "execution_count": null,
   "id": "343ade4e-d8d2-4e4d-b074-92fa6c873731",
   "metadata": {
    "tags": []
   },
   "outputs": [],
   "source": [
    "import os, sys\n",
    "import warnings\n",
    "from CRS_funcs import temporal_profile_for_practices, display_plots, AT_diff_SZN_barchart, AT_stats\n",
    "####### \n",
    "input_dir=\"time_series/NI/merged/\""
   ]
  },
  {
   "cell_type": "markdown",
   "id": "15902296-e23d-44a9-a691-7e55fdf1ed76",
   "metadata": {
    "slideshow": {
     "slide_type": "slide"
    },
    "tags": []
   },
   "source": [
    "# 2016-2019 time series of vegetation indices to identify cover crops (CC) and crop residue (CR) on ASA plots (treatment) vs Test plots (control):  \n",
    "- Vegetation Indices: maximize separation of features of interest. Broadband vs narrowband.  \n",
    "- Limited to indices using wavelengths/bands covered by Sentinel AND Landsat (can't use Sentinel's red-edge bands).  \n",
    "\n",
    "## <b>Cover crops:</b> identify CC on ASA plots (with standing CR) from Test plots without CC (with grazed CR)  \n",
    "- <b>Temporal window:</b> NOV to FEB - after postrera harvest, CC is planted and dies off by February in dry years (can last as long as May?)  \n",
    "- <b>Spectral window:</b> choose bands-> indices measuring green/live/photosynthetically active vegetation vs brown/dead/non-photosynthetically active vegetation  \n",
    "1) <b>Enhanced Vegetation Index 2 (EVI2)</b> = 2.5 * ( NIR - RED) / ( NIR + (2.4 * RED + 1.0 )    \n",
    "2) <b>Green-Chlorophyll Vegetation Index (GCVI)</b> = (NIR – GREEN) / (NIR + GREEN)  \n",
    "\n",
    "<b> ASA with CC should have higher EVI & GCVI values than Test plots sans CC from NOV to FEB </b>\n",
    "\n",
    "\n",
    "## <b>Crop residue:</b> differentiate ASA plots with standing crop residue from Test plots with grazed residue (leaving soil)  \n",
    "- <b>Temporal window:</b> FEB to MAY - CR is left on both Test and ASA plots. Grazing occurs on Test, so once residue has been grazed on Test & CC dies on ASA around Feb, Test plot should have soil and ASA plot should have standing residue  \n",
    "- <b>Spectral window:</b> soil and dead/dry veg look similar in visible and NIR parts of the spectrum, but lignin and cellulose in standing residue absorb SWIR2 light  \n",
    "1) <b>Normalized Difference Tillage Index (NDTI)</b> = (SWIR1-SWIR2) / (SWIR1+SWIR2) First, the most prominent spectral difference between NPV and soil is the cellulose absorption feature in SWIR 2 wavelengths.   \n",
    "2) <b>Normalized Burn Ratio (NBR)</b> = (SWIR2-NIR1) / (SWIR2+NIR) \n",
    "\n",
    "<b> ASA with CR should have higher NDTI & NBR values than Test plots sans CR from FEB to MAY </b>"
   ]
  },
  {
   "cell_type": "code",
   "execution_count": null,
   "id": "fd716927-c1f2-41d9-910b-97edfc4949a0",
   "metadata": {},
   "outputs": [],
   "source": [
    "for dat in sorted(os.listdir(input_dir)):\n",
    "        if dat.endswith('_merged_SZN_stats.csv'):\n",
    "            AT_diff_SZN_barchart(input_dir + dat)"
   ]
  },
  {
   "cell_type": "markdown",
   "id": "4e8d443d-6b9e-45ea-bb8d-8be4baaa3ba3",
   "metadata": {},
   "source": [
    "List of NI plots with practice data: NI_147, NI_192, NI_218, NI_248, NI_258, NI_295, NI_307, NI_313, NI_385, NI_407, NI_470, NI_480, NI_482, NI_581, NI_599, NI_634, NI_660, NI_697, NI_698  \n",
    "List of ES plots with practice data: Part/SV-0Efp3f, Part/SV-7d01PS, Part/SV-A4fryE, Part/SV-Bbidgt, Part/SV-KLPAjn, Part/SV-LAx5RV, Part/SV-MzPH4V, Part/SV-NX2KiG, Part/SV-RBeWMK, Part/SV-V5Rucv, Part/SV-YihL4S, Part/SV-ZncYrJ, Part/SV-ZxmdrS, Part/SV-dZbLci, Part/SV-iAfkxt, Part/SV-jrYwT3, Part/SV-mZD9s4, Part/SV-oS60rF, Part/SV-qE9VaZ, Part/SV-srgr52"
   ]
  },
  {
   "cell_type": "code",
   "execution_count": null,
   "id": "24456fdc",
   "metadata": {},
   "outputs": [],
   "source": [
    "FieldID=\"NI_313\"\n",
    "##########################################\n",
    "for i in sorted(os.listdir(input_dir)):\n",
    "        if i.endswith('_merged.csv'):\n",
    "            AT_stats(input_dir + i, FieldID)"
   ]
  },
  {
   "cell_type": "markdown",
   "id": "270f32a6-0e3e-4659-9087-8ceb3e33e87f",
   "metadata": {
    "tags": []
   },
   "source": [
    "## Nicaragua grids: '002225','002387','002388','002548','002549','002550'  (** fix 2387. include two leading zeros)\n", 
    "## List of indices = ['evi2', 'gcvi', 'kndvi', 'ndti', 'wi', 'nbr']"
   ]
  },
  {
   "cell_type": "code",
   "execution_count": null,
   "id": "1e1d734d-1002-4b46-bd0e-48b4f904b337",
   "metadata": {},
   "outputs": [],
   "source": [
    "display_plots('002225', ['evi2', 'gcvi', 'nbr', 'ndti'])"
   ]
  },
  {
   "cell_type": "code",
   "execution_count": null,
   "id": "7d6a6391-1804-41dc-9431-415aa3c8e632",
   "metadata": {},
   "outputs": [],
   "source": []
  }
 ],
 "metadata": {
  "kernelspec": {
   "display_name": "leaflet",
   "language": "python",
   "name": "leaflet"
  },
  "language_info": {
   "codemirror_mode": {
    "name": "ipython",
    "version": 3
   },
   "file_extension": ".py",
   "mimetype": "text/x-python",
   "name": "python",
   "nbconvert_exporter": "python",
   "pygments_lexer": "ipython3",
   "version": "3.10.6"
  },
  "widgets": {
   "application/vnd.jupyter.widget-state+json": {
    "state": {},
    "version_major": 2,
    "version_minor": 0
   }
  }
 },
 "nbformat": 4,
 "nbformat_minor": 5
}
